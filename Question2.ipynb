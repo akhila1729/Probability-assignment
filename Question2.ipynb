{
 "cells": [
  {
   "cell_type": "markdown",
   "metadata": {},
   "source": [
    "# Inputting the arrays from \"hw1b1.txt\" ,\"hw1b2.txt\", \"hw1b3.txt\",\"hw1b4.txt\""
   ]
  },
  {
   "cell_type": "code",
   "execution_count": 3,
   "metadata": {},
   "outputs": [
    {
     "data": {
      "text/plain": [
       "100×1 Array{Any,2}:\n",
       " false\n",
       " false\n",
       "  true\n",
       " false\n",
       "  true\n",
       "  true\n",
       "  true\n",
       " false\n",
       " false\n",
       " false\n",
       " false\n",
       " false\n",
       " false\n",
       "     ⋮\n",
       " false\n",
       " false\n",
       " false\n",
       " false\n",
       "  true\n",
       " false\n",
       " false\n",
       "  true\n",
       " false\n",
       " false\n",
       " false\n",
       " false"
      ]
     },
     "execution_count": 3,
     "metadata": {},
     "output_type": "execute_result"
    }
   ],
   "source": [
    "using DelimitedFiles\n",
    "arr1=readdlm(\"hw1b1.txt\")\n",
    "arr2=readdlm(\"hw1b2.txt\")\n",
    "arr3=readdlm(\"hw1b3.txt\")\n",
    "arr4=readdlm(\"hw1b4.txt\")\n",
    "\n",
    "arr1"
   ]
  },
  {
   "cell_type": "markdown",
   "metadata": {},
   "source": [
    "# This function checks whether the coin is biased or not and find the tosses at which he starts to doubt and confirm his doubt"
   ]
  },
  {
   "cell_type": "markdown",
   "metadata": {},
   "source": [
    "It accepts the array which contains the outcomes(true/false;true if head else false) of tossing the coin.\n",
    "Then converts the \"any\" type array elements into Int64 type array elements\n",
    "Then counts the number of heads using the variable \"heads\"\n",
    "Then calculates the z score and store it in z\n",
    "if z score is found to be greater that 1.546 or less than -1.546, the first toss at which this happened is stored in \"d\" variable.This is the point when he starts to doubt\n",
    "if z score is found to be greater than 2.576 or less than -2.576,the first toss at which this happened is stored in \"p\" variable.This is the point when he confirms that the coin is biased"
   ]
  },
  {
   "cell_type": "code",
   "execution_count": 13,
   "metadata": {},
   "outputs": [
    {
     "data": {
      "text/plain": [
       "convertion (generic function with 1 method)"
      ]
     },
     "execution_count": 13,
     "metadata": {},
     "output_type": "execute_result"
    }
   ],
   "source": [
    "function convertion(arr)\n",
    "    arr11=Int64[]\n",
    "    z_arr=Float64[]\n",
    "    heads=0\n",
    "    d=0\n",
    "    p=0\n",
    "    c=0\n",
    "    for i in 1:100\n",
    "      \n",
    "        push!(arr11,convert(Int64,arr[i]))\n",
    "        heads=heads+arr11[i]\n",
    "        z=(heads-i/2)*2/sqrt(i)\n",
    "        push!(z_arr,z)\n",
    "        if(c==0)\n",
    "            if((z>1.645)||(z<-1.645))&&(i>10)\n",
    "                c=1\n",
    "                d=i\n",
    "            end\n",
    "        end\n",
    "        if((z>2.576)||(z<-2.576))&&(i>10)\n",
    "            p=i\n",
    "            break\n",
    "        end\n",
    "    end\n",
    "    \n",
    "    arr_z=Float64[]    \n",
    "    arr11\n",
    "    heads\n",
    "    p\n",
    "    return p,d\n",
    "   \n",
    " \n",
    "end"
   ]
  },
  {
   "cell_type": "markdown",
   "metadata": {},
   "source": [
    "He will start to doubt at 15th toss and make sure the coin is biased at 65th toss"
   ]
  },
  {
   "cell_type": "code",
   "execution_count": 11,
   "metadata": {},
   "outputs": [
    {
     "data": {
      "text/plain": [
       "(65, 15)"
      ]
     },
     "execution_count": 11,
     "metadata": {},
     "output_type": "execute_result"
    }
   ],
   "source": [
    "convertion(arr1)"
   ]
  },
  {
   "cell_type": "markdown",
   "metadata": {},
   "source": [
    "He will start to doubt at 29th toss but he wont make sure it is biased"
   ]
  },
  {
   "cell_type": "code",
   "execution_count": 12,
   "metadata": {},
   "outputs": [
    {
     "data": {
      "text/plain": [
       "(0, 29)"
      ]
     },
     "execution_count": 12,
     "metadata": {},
     "output_type": "execute_result"
    }
   ],
   "source": [
    "convertion(arr2)"
   ]
  },
  {
   "cell_type": "markdown",
   "metadata": {},
   "source": [
    "He won't doubt for below coins"
   ]
  },
  {
   "cell_type": "code",
   "execution_count": 8,
   "metadata": {},
   "outputs": [
    {
     "data": {
      "text/plain": [
       "(0, 0)"
      ]
     },
     "execution_count": 8,
     "metadata": {},
     "output_type": "execute_result"
    }
   ],
   "source": [
    "convertion(arr3)"
   ]
  },
  {
   "cell_type": "code",
   "execution_count": 9,
   "metadata": {},
   "outputs": [
    {
     "data": {
      "text/plain": [
       "(0, 0)"
      ]
     },
     "execution_count": 9,
     "metadata": {},
     "output_type": "execute_result"
    }
   ],
   "source": [
    "convertion(arr4)"
   ]
  }
 ],
 "metadata": {
  "kernelspec": {
   "display_name": "Julia 1.5.0",
   "language": "julia",
   "name": "julia-1.5"
  },
  "language_info": {
   "file_extension": ".jl",
   "mimetype": "application/julia",
   "name": "julia",
   "version": "1.5.0"
  }
 },
 "nbformat": 4,
 "nbformat_minor": 4
}
